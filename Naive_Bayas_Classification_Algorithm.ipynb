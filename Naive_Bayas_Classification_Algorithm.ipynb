{
 "cells": [
  {
   "cell_type": "code",
   "execution_count": 210,
   "metadata": {},
   "outputs": [],
   "source": [
    "import matplotlib.pylab as plt\n",
    "from scipy.stats import norm\n",
    "import pandas as pd\n",
    "import numpy as np\n",
    "from numpy import mean\n",
    "from numpy import std"
   ]
  },
  {
   "cell_type": "code",
   "execution_count": 211,
   "metadata": {},
   "outputs": [],
   "source": [
    "df = pd.read_csv('iris.data')\n",
    "X = df.iloc[:,0:4]\n",
    "Y = df.iloc[:,4]"
   ]
  },
  {
   "cell_type": "code",
   "execution_count": 212,
   "metadata": {},
   "outputs": [],
   "source": [
    "def target_converter(Lable):\n",
    "    A = []\n",
    "    class_list = []\n",
    "    output = []\n",
    "    x = 0\n",
    "\n",
    "    for i in Lable:\n",
    "        if (i not in A):\n",
    "            A.append(i)\n",
    "            class_list.append(x)\n",
    "            x += 1\n",
    "        \n",
    "    for i in Lable:\n",
    "        x = A.index(i)\n",
    "        output.append(x)\n",
    "        \n",
    "    return(class_list,np.array(output))"
   ]
  },
  {
   "cell_type": "code",
   "execution_count": 213,
   "metadata": {},
   "outputs": [],
   "source": [
    "X = np.array(X)\n",
    "class_list, Y = target_converter(np.array(Y))"
   ]
  },
  {
   "cell_type": "code",
   "execution_count": 214,
   "metadata": {},
   "outputs": [],
   "source": [
    "def prior_list_generator(class_list,X):\n",
    "    prior_list = []\n",
    "    for i in class_list:\n",
    "        xyi = X[Y == i]\n",
    "        prior = len(xyi)/len(X)\n",
    "        prior_list.append(prior)\n",
    "    return prior_list"
   ]
  },
  {
   "cell_type": "code",
   "execution_count": 215,
   "metadata": {},
   "outputs": [],
   "source": [
    "Prior = prior_list_generator(class_list,X)"
   ]
  },
  {
   "cell_type": "code",
   "execution_count": 216,
   "metadata": {},
   "outputs": [],
   "source": [
    "def fit_dist(data):\n",
    "    mu = mean(data)\n",
    "    sigma = std(data)\n",
    "    out_dist = norm(mu,sigma)\n",
    "    return out_dist"
   ]
  },
  {
   "cell_type": "code",
   "execution_count": 217,
   "metadata": {},
   "outputs": [],
   "source": [
    "def likelihood(X,Y,class_list):\n",
    "    likelihood_list = []\n",
    "    for i in class_list:\n",
    "        xyi = X[Y == i]\n",
    "        likelihood = []\n",
    "        for j in range(len(X[0])):\n",
    "            like_xj_yi = fit_dist(xyi[:,j])\n",
    "            likelihood.append(like_xj_yi)\n",
    "        likelihood_list.append(likelihood)\n",
    "    return likelihood_list"
   ]
  },
  {
   "cell_type": "code",
   "execution_count": 218,
   "metadata": {},
   "outputs": [],
   "source": [
    "Likelihood = likelihood(X,Y,class_list)"
   ]
  },
  {
   "cell_type": "code",
   "execution_count": 219,
   "metadata": {},
   "outputs": [],
   "source": [
    "def probability(sample, prior, likelihood):\n",
    "    Likelihood = 1\n",
    "    for i in range(len(likelihood)):\n",
    "        Likelihood = Likelihood * likelihood[i].pdf(sample[i])\n",
    "    posterior = Likelihood * prior\n",
    "    return posterior"
   ]
  },
  {
   "cell_type": "code",
   "execution_count": 220,
   "metadata": {},
   "outputs": [],
   "source": [
    "def calc_prob(likelihood_list,prior_list,xsample,ysample):\n",
    "    pred_list = []\n",
    "    for likelihood,prior in zip(likelihood_list,prior_list):\n",
    "        y_pred = probability( xsample, prior, likelihood)\n",
    "        pred_list.append(y_pred)\n",
    "    for i in range(len(pred_list)):\n",
    "        if pred_list[i] == max(pred_list):\n",
    "            prediction = i\n",
    "    if prediction == ysample:\n",
    "        return 1\n",
    "    else:\n",
    "        return 0"
   ]
  },
  {
   "cell_type": "code",
   "execution_count": 221,
   "metadata": {},
   "outputs": [],
   "source": [
    "def accuracy_pred(X_sample,Y_sample,Likelihood,Prior):\n",
    "    accuracy_list = []\n",
    "    accurate_pred = 0\n",
    "    for i, j in zip(X_sample, Y_sample):\n",
    "        accuracy = calc_prob(Likelihood,Prior,i,j)\n",
    "        accuracy_list.append(accuracy)\n",
    "    for i in accuracy_list:\n",
    "        if i == 1:\n",
    "            accurate_pred += 1\n",
    "    return accurate_pred/len(accuracy_list)\n"
   ]
  },
  {
   "cell_type": "code",
   "execution_count": 222,
   "metadata": {},
   "outputs": [],
   "source": [
    "accuracy_list = []\n",
    "sampling_size = []\n",
    "def naive_bayes_classification(sample_percent):\n",
    "    sample_size = int(sample_percent* len(X))\n",
    "    acc = accuracy_pred(X[0:sample_size],Y[0:sample_size],Likelihood,Prior)\n",
    "    sampling_size.append(sample_percent)\n",
    "    accuracy_list.append(acc)\n",
    "    "
   ]
  },
  {
   "cell_type": "code",
   "execution_count": 223,
   "metadata": {},
   "outputs": [
    {
     "name": "stdout",
     "output_type": "stream",
     "text": [
      "10 10\n"
     ]
    },
    {
     "data": {
      "image/png": "[encoded data removed]",
      "text/plain": [
       "<Figure size 432x288 with 1 Axes>"
      ]
     },
     "metadata": {
      "needs_background": "light"
     },
     "output_type": "display_data"
    }
   ],
   "source": [
    "for i in range(1,100,10):\n",
    "    naive_bayes_classification(i/100)\n",
    "print(len(sampling_size),len(accuracy_list))\n",
    "plt.bar(sampling_size,accuracy_list)\n",
    "plt.xlabel(\"Sample Size\")\n",
    "plt.ylabel(\"Accuracy\")\n",
    "plt.show()\n"
   ]
  },
  {
   "cell_type": "code",
   "execution_count": 224,
   "metadata": {},
   "outputs": [
    {
     "data": {
      "text/plain": [
       "[0.01, 0.11, 0.21, 0.31, 0.41, 0.51, 0.61, 0.71, 0.81, 0.91]"
      ]
     },
     "execution_count": 224,
     "metadata": {},
     "output_type": "execute_result"
    }
   ],
   "source": [
    "sampling_size"
   ]
  },
  {
   "cell_type": "code",
   "execution_count": null,
   "metadata": {},
   "outputs": [],
   "source": []
  }
 ],
 "metadata": {
  "interpreter": {
   "hash": "aee8b7b246df8f9039afb4144a1f6fd8d2ca17a180786b69acc140d282b71a49"
  },
  "kernelspec": {
   "display_name": "Python 3 (ipykernel)",
   "language": "python",
   "name": "python3"
  },
  "language_info": {
   "codemirror_mode": {
    "name": "ipython",
    "version": 3
   },
   "file_extension": ".py",
   "mimetype": "text/x-python",
   "name": "python",
   "nbconvert_exporter": "python",
   "pygments_lexer": "ipython3",
   "version": "3.8.8"
  }
 },
 "nbformat": 4,
 "nbformat_minor": 2
}
