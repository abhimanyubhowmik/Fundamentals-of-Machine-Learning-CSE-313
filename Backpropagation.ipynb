{
 "cells": [
  {
   "cell_type": "code",
   "execution_count": 1,
   "metadata": {},
   "outputs": [],
   "source": [
    "import numpy as np\n",
    "import pandas as pd\n",
    "import matplotlib.pyplot as plt\n",
    "import seaborn as sns\n",
    "from sympy import *"
   ]
  },
  {
   "cell_type": "code",
   "execution_count": 2,
   "metadata": {},
   "outputs": [],
   "source": [
    "x = Symbol('x')\n",
    "f1_exp = 1/(1+exp(-x))\n",
    "f2_exp = x\n",
    "f1_prime_exp = diff(f1_exp)\n",
    "f2_prime_exp = diff(f2_exp)\n",
    "f1 = lambdify(x,f1_exp)\n",
    "f2 = lambdify(x,f2_exp)\n",
    "f1_prime = lambdify(x,f1_prime_exp)\n",
    "f2_prime = lambdify(x,f2_prime_exp)\n",
    "Tf_list = [f1,f2]\n",
    "F_prime = [f1_prime,f2_prime]"
   ]
  },
  {
   "cell_type": "code",
   "execution_count": 3,
   "metadata": {},
   "outputs": [],
   "source": [
    "def Z_op(X,W,B):\n",
    "    Z = np.dot(W,X.T) + B\n",
    "    return Z"
   ]
  },
  {
   "cell_type": "code",
   "execution_count": 4,
   "metadata": {},
   "outputs": [],
   "source": [
    "def Y_op(Tf,*Z):\n",
    "    Yout = []\n",
    "    for z in Z:\n",
    "        y = Tf(z)\n",
    "        Yout.append(y)\n",
    "    return np.array(Yout)\n"
   ]
  },
  {
   "cell_type": "code",
   "execution_count": 5,
   "metadata": {},
   "outputs": [],
   "source": [
    "def Cost(Y,T):\n",
    "    errors = T - Y\n",
    "    SSE = 0\n",
    "    for error in errors:\n",
    "        SSE = SSE + error*error\n",
    "    MSE = SSE/len(errors)\n",
    "    return MSE\n"
   ]
  },
  {
   "cell_type": "code",
   "execution_count": 6,
   "metadata": {},
   "outputs": [],
   "source": [
    "def feed_forward(W,B,X,Tf_list):\n",
    "    Z_list = []\n",
    "    X_list = []\n",
    "    X_list.append(X)\n",
    "    for i,j,k in zip(range(len(W)),range(len(B)),range(len(Tf_list))):\n",
    "        z = Z_op(X,W[i],B[j])\n",
    "        Z_list.append(z)\n",
    "        y = Y_op(Tf_list[k],z)\n",
    "        X = y\n",
    "        X_list.append(X)\n",
    "    return Z_list,X_list\n",
    "\n",
    "    "
   ]
  },
  {
   "cell_type": "code",
   "execution_count": 7,
   "metadata": {},
   "outputs": [
    {
     "name": "stdout",
     "output_type": "stream",
     "text": [
      "[array([[ 0.2,  0.4, -0.5],\n",
      "       [-0.3,  0.1,  0.2]]), array([-0.3, -0.2])]\n",
      "[array([-0.4,  0.2]), array([0.1])]\n",
      "[1]\n",
      "[1 0 1]\n"
     ]
    }
   ],
   "source": [
    "w1 = np.array([[0.2,0.4 , -0.5], \n",
    "    [-0.3, 0.1, 0.2]])\n",
    "w2 = np.array([-0.3,-0.2])\n",
    "W = [w1,w2]\n",
    "X = np.array([1,0,1])\n",
    "b1 = np.array([-0.4,0.2])\n",
    "b2 = np.array([0.1])\n",
    "B = [b1,b2]\n",
    "alpha = 0.9\n",
    "Target = np.array([1])\n",
    "print(W)\n",
    "print(B)\n",
    "print(Target)\n",
    "print(X)"
   ]
  },
  {
   "cell_type": "code",
   "execution_count": 8,
   "metadata": {},
   "outputs": [],
   "source": [
    "def sensitivity(Z_list,X_list,F_prime,Target,Weights):\n",
    "    F_list = []\n",
    "    Sn_list = []\n",
    "    for i in range(len(Z_list)):\n",
    "        D = []\n",
    "        for k in Z_list[i]:\n",
    "            d = F_prime[i](k)\n",
    "            D.append(d)\n",
    "        Dag = np.array(D)\n",
    "        F_dot = np.diag(Dag)\n",
    "        F_list.append(F_dot)\n",
    "    F_n = F_list.pop(len(F_list)-1)\n",
    "    A_n = X_list.pop(len(X_list)-1)\n",
    "    error = Target - A_n\n",
    "    S_n = np.array(-2*np.dot(F_n,error.T))\n",
    "    Sn_list.append(S_n)\n",
    "    for i in range(len(F_list),0,-1):\n",
    "        F_dot_W = np.array(np.dot(F_list[i-1],Weights[i].T))\n",
    "        S_n = F_dot_W*S_n\n",
    "        Sn_list.append(S_n.T)\n",
    "    return Sn_list\n"
   ]
  },
  {
   "cell_type": "code",
   "execution_count": 9,
   "metadata": {},
   "outputs": [],
   "source": [
    "def weight_bias_updation(Weight,Bias,Alpha,Sensitivity,X_List):\n",
    "    new_weights = []\n",
    "    new_bias = []\n",
    "    def reshaping(vector):\n",
    "        if vector.shape == (len(vector),1):\n",
    "            return vector.reshape(len(vector),)\n",
    "        else :\n",
    "            return vector\n",
    "    def Reverse(lst):\n",
    "        return [ele for ele in reversed(lst)]\n",
    "    sens = Reverse(Sensitivity)\n",
    "\n",
    "    for i in range(len(Weight)):\n",
    "        delta_w = reshaping(Alpha*sens[i]*X_List[i].T)\n",
    "        w = Weight[i] - delta_w #As a(1) = X[0], The loop will run for w[0],w[1]...w[n-1], which we will use as w1,w2...wn\n",
    "        new_weights.append(w)\n",
    "    for i in range(len(Bias)):\n",
    "        b = Bias[i] - reshaping(Alpha*sens[i])\n",
    "        new_bias.append(b)\n",
    "    return new_weights,new_bias"
   ]
  },
  {
   "cell_type": "code",
   "execution_count": 21,
   "metadata": {},
   "outputs": [],
   "source": [
    "def Error_Collection(Target,Output,All_Errors):\n",
    "  Error = Cost(Output,Target)\n",
    "  All_Errors.append(Error)"
   ]
  },
  {
   "cell_type": "code",
   "execution_count": 34,
   "metadata": {},
   "outputs": [],
   "source": [
    "def backpropagation(Weight,Bias,Pattern,Target,Alpha,Transfer_Function,F_Prime,Epoch):\n",
    "    all_errors = []\n",
    "    epoch_list = []\n",
    "    for i in range(Epoch):\n",
    "        zl,xl = feed_forward(Weight,Bias,Pattern,Transfer_Function)\n",
    "        actual_output = xl[len(xl)-1]\n",
    "        Error_Collection(Target,actual_output,all_errors)\n",
    "        sen = sensitivity(zl,xl,F_prime,Target,Weight)\n",
    "        Weight,Bias = weight_bias_updation(Weight,Bias,alpha,sen,xl)\n",
    "        epoch_list.append(i+1)\n",
    "    plt.scatter(epoch_list,all_errors)\n",
    "    plt.xlabel('Number of Epoch')\n",
    "    plt.ylabel('Mean Square Error')\n",
    "    plt.grid()\n",
    "        "
   ]
  },
  {
   "cell_type": "code",
   "execution_count": 36,
   "metadata": {},
   "outputs": [
    {
     "data": {
      "image/png": "[encoded data removed]",
      "text/plain": [
       "<Figure size 432x288 with 1 Axes>"
      ]
     },
     "metadata": {
      "needs_background": "light"
     },
     "output_type": "display_data"
    }
   ],
   "source": [
    "backpropagation(W,B,X,Target,alpha,Tf_list,F_prime,20)"
   ]
  }
 ],
 "metadata": {
  "interpreter": {
   "hash": "aee8b7b246df8f9039afb4144a1f6fd8d2ca17a180786b69acc140d282b71a49"
  },
  "kernelspec": {
   "display_name": "Python 3 (ipykernel)",
   "language": "python",
   "name": "python3"
  },
  "language_info": {
   "codemirror_mode": {
    "name": "ipython",
    "version": 3
   },
   "file_extension": ".py",
   "mimetype": "text/x-python",
   "name": "python",
   "nbconvert_exporter": "python",
   "pygments_lexer": "ipython3",
   "version": "3.8.8"
  }
 },
 "nbformat": 4,
 "nbformat_minor": 2
}
